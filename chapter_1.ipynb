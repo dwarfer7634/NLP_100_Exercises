{
 "cells": [
  {
   "cell_type": "markdown",
   "metadata": {},
   "source": [
    "## Chapter 1\n",
    "\n",
    "# No.00\n",
    "文字列\"stressed\"の文字を逆に（末尾から先頭に向かって）並べた文字列を得よ．"
   ]
  },
  {
   "cell_type": "code",
   "execution_count": 1,
   "metadata": {
    "collapsed": false
   },
   "outputs": [
    {
     "name": "stdout",
     "output_type": "stream",
     "text": [
      "desserts\n"
     ]
    }
   ],
   "source": [
    "input_ = 'stressed'\n",
    "ret = input_[::-1]\n",
    "    \n",
    "print(ret)"
   ]
  },
  {
   "cell_type": "markdown",
   "metadata": {},
   "source": [
    "# No.01\n",
    "「パタトクカシーー」という文字列の1,3,5,7文字目を取り出して連結した文字列を得よ．"
   ]
  },
  {
   "cell_type": "code",
   "execution_count": 21,
   "metadata": {
    "collapsed": false
   },
   "outputs": [
    {
     "name": "stdout",
     "output_type": "stream",
     "text": [
      "パトカー\n"
     ]
    }
   ],
   "source": [
    "input_ = 'パタトクカシーー'\n",
    "ret = input_[::2]\n",
    "print(ret)"
   ]
  },
  {
   "cell_type": "markdown",
   "metadata": {},
   "source": [
    "# No.02\n",
    "「パトカー」＋「タクシー」の文字を先頭から交互に連結して文字列「パタトクカシーー」を得よ．"
   ]
  },
  {
   "cell_type": "code",
   "execution_count": 22,
   "metadata": {
    "collapsed": false
   },
   "outputs": [
    {
     "name": "stdout",
     "output_type": "stream",
     "text": [
      "パタトクカシーー\n"
     ]
    }
   ],
   "source": [
    "import itertools\n",
    "input1 = 'パトカー'\n",
    "input2 = 'タクシー'\n",
    "ret = ''\n",
    "\n",
    "for (c1, c2) in itertools.zip_longest(input1, input2, fillvalue=''):\n",
    "    ret += c1 + c2\n",
    "\n",
    "print(ret)"
   ]
  },
  {
   "cell_type": "markdown",
   "metadata": {},
   "source": [
    "# No.03\n",
    "\"Now I need a drink, alcoholic of course, after the heavy lectures involving quantum mechanics.\"という文を単語に分解し，各単語の（アルファベットの）文字数を先頭から出現順に並べたリストを作成せよ．"
   ]
  },
  {
   "cell_type": "code",
   "execution_count": 19,
   "metadata": {
    "collapsed": false
   },
   "outputs": [
    {
     "name": "stdout",
     "output_type": "stream",
     "text": [
      "[3, 1, 4, 1, 5, 9, 2, 6, 5, 3, 5, 8, 9, 7, 9]\n"
     ]
    }
   ],
   "source": [
    "sentence = 'Now I need a drink, alcoholic of course, after the heavy lectures involving quantum mechanics.'\n",
    "punctuation_marks = ',.'\n",
    "counts = [len(word) for word in sentence.translate(str.maketrans('', '', punctuation_marks)).split()]\n",
    "print(counts)"
   ]
  },
  {
   "cell_type": "markdown",
   "metadata": {},
   "source": [
    "# No.04\n",
    "\"Hi He Lied Because Boron Could Not Oxidize Fluorine. New Nations Might Also Sign Peace Security Clause. Arthur King Can.\"という文を単語に分解し，1, 5, 6, 7, 8, 9, 15, 16, 19番目の単語は先頭の1文字，それ以外の単語は先頭に2文字を取り出し，取り出した文字列から単語の位置（先頭から何番目の単語か）への連想配列（辞書型もしくはマップ型）を作成せよ．"
   ]
  },
  {
   "cell_type": "code",
   "execution_count": 6,
   "metadata": {
    "collapsed": false
   },
   "outputs": [
    {
     "name": "stdout",
     "output_type": "stream",
     "text": [
      "{'H': 1, 'He': 2, 'Li': 3, 'Be': 4, 'B': 5, 'C': 6, 'N': 7, 'O': 8, 'F': 9, 'Ne': 10, 'Na': 11, 'Mi': 12, 'Al': 13, 'Si': 14, 'P': 15, 'S': 16, 'Cl': 17, 'Ar': 18, 'K': 19, 'Ca': 20}\n"
     ]
    }
   ],
   "source": [
    "sentence = 'Hi He Lied Because Boron Could Not Oxidize Fluorine. New Nations Might Also Sign Peace Security Clause. Arthur King Can.'\n",
    "punctuation_marks = ',.'\n",
    "idx_list=[1, 5, 6, 7, 8, 9, 15, 16, 19]\n",
    "word_pos_dict = dict()\n",
    "\n",
    "words = sentence.translate(str.maketrans('', '', punctuation_marks)).split()\n",
    "    \n",
    "for i, word in enumerate(words, 1) :\n",
    "    if i in idx_list:\n",
    "        word_pos_dict[word[0]] = i\n",
    "    else:\n",
    "        word_pos_dict[word[0 : 2]] = i\n",
    "\n",
    "print(word_pos_dict)"
   ]
  },
  {
   "cell_type": "markdown",
   "metadata": {},
   "source": [
    "# No.05\n",
    "与えられたシーケンス（文字列やリストなど）からn-gramを作る関数を作成せよ．この関数を用い，\"I am an NLPer\"という文から単語bi-gram，文字bi-gramを得よ．"
   ]
  },
  {
   "cell_type": "code",
   "execution_count": 8,
   "metadata": {
    "collapsed": false
   },
   "outputs": [
    {
     "name": "stdout",
     "output_type": "stream",
     "text": [
      "単語bi-gram\n",
      "[['I', 'am'], ['am', 'an'], ['an', 'NLPer']]\n",
      "\n",
      "文字bi-gram\n",
      "[['I', ' '], [' ', 'a'], ['a', 'm'], ['m', ' '], [' ', 'a'], ['a', 'n'], ['n', ' '], [' ', 'N'], ['N', 'L'], ['L', 'P'], ['P', 'e'], ['e', 'r']]\n"
     ]
    }
   ],
   "source": [
    "def n_gram(sentence, n, type='word'):\n",
    "    if type == 'word':\n",
    "        words = sentence.split()\n",
    "    elif type == 'character':\n",
    "        words = list(sentence) \n",
    "    else:\n",
    "        raise Exeption \n",
    "        \n",
    "    rets = []\n",
    "    \n",
    "    for i in range(len(words) - n + 1):\n",
    "        tmp = []\n",
    "        for j in range(i, i + n):\n",
    "            tmp.append(words[j])\n",
    "        rets.append(tmp)\n",
    "    return rets\n",
    "        \n",
    "sentence = 'I am an NLPer'\n",
    "print('単語bi-gram')\n",
    "print(n_gram(sentence, 2), end='\\n\\n')\n",
    "print('文字bi-gram')\n",
    "print(n_gram(sentence, 2, 'character'))\n",
    "            "
   ]
  },
  {
   "cell_type": "markdown",
   "metadata": {
    "collapsed": true
   },
   "source": [
    "# No.06\n",
    "\"paraparaparadise\"と\"paragraph\"に含まれる文字bi-gramの集合を，それぞれ, XとYとして求め，XとYの和集合，積集合，差集合を求めよ．さらに，'se'というbi-gramがXおよびYに含まれるかどうかを調べよ．"
   ]
  },
  {
   "cell_type": "code",
   "execution_count": 22,
   "metadata": {
    "collapsed": false
   },
   "outputs": [
    {
     "name": "stdout",
     "output_type": "stream",
     "text": [
      "X: {'ap', 'ad', 'ra', 'se', 'is', 'di', 'ar', 'pa'}\n",
      "Y: {'ap', 'gr', 'ag', 'ra', 'ph', 'ar', 'pa'}\n",
      "和集合: {'ap', 'ad', 'gr', 'ag', 'ra', 'se', 'ph', 'ar', 'pa', 'is', 'di'}\n",
      "積集合: {'ap', 'ra', 'ar', 'pa'}\n",
      "差集合: {'di', 'ad', 'se', 'is'}\n",
      "X内に'se'は存在 :  True\n",
      "Y内に'se'は存在 :  False\n"
     ]
    }
   ],
   "source": [
    "str1 = 'paraparaparadise'\n",
    "str2 = 'paragraph'\n",
    "\n",
    "X = set([c1 + c2 for c1, c2 in n_gram(str1, 2, 'character')])\n",
    "Y = set([c1 + c2 for c1, c2 in n_gram(str2, 2, 'character')])\n",
    "\n",
    "print('X:',X)\n",
    "print('Y:',Y)\n",
    "print('和集合:', X.union(Y)) \n",
    "print('積集合:', X.intersection(Y))\n",
    "print('差集合:', X.difference(Y))\n",
    "print('X内に\\'se\\'は存在 : ', 'se' in X)\n",
    "print('Y内に\\'se\\'は存在 : ', 'se' in Y)"
   ]
  },
  {
   "cell_type": "markdown",
   "metadata": {
    "collapsed": true
   },
   "source": [
    "# No.07\n",
    "引数x, y, zを受け取り「x時のyはz」という文字列を返す関数を実装せよ．さらに，x=12, y=\"気温\", z=22.4として，実行結果を確認せよ．"
   ]
  },
  {
   "cell_type": "code",
   "execution_count": 2,
   "metadata": {
    "collapsed": false
   },
   "outputs": [
    {
     "data": {
      "text/plain": [
       "'12時の気温は22.4'"
      ]
     },
     "execution_count": 2,
     "metadata": {},
     "output_type": "execute_result"
    }
   ],
   "source": [
    "def to_sentence(X, Y, Z):\n",
    "    return '{0}時の{1}は{2}'.format(X, Y, Z)\n",
    "\n",
    "to_sentence(12, '気温', 22.4)"
   ]
  },
  {
   "cell_type": "markdown",
   "metadata": {},
   "source": [
    "# No.08\n",
    "与えられた文字列の各文字を，以下の仕様で変換する関数cipherを実装せよ．\n",
    "\n",
    "英小文字ならば(219 - 文字コード)の文字に置換\n",
    "その他の文字はそのまま出力\n",
    "この関数を用い，英語のメッセージを暗号化・復号化せよ．"
   ]
  },
  {
   "cell_type": "code",
   "execution_count": 12,
   "metadata": {
    "collapsed": false
   },
   "outputs": [
    {
     "name": "stdout",
     "output_type": "stream",
     "text": [
      "row data :  We are going to use A strategy tomorrow.\n",
      "encrypted data :  Wv ziv tlrmt gl fhv A hgizgvtb glnliild.\n",
      "decrypted data :  We are going to use A strategy tomorrow.\n"
     ]
    }
   ],
   "source": [
    "def cipher(sentence):\n",
    "    rets = ''\n",
    "    for c in sentence:\n",
    "        if c.islower():\n",
    "            rets += chr(219 - ord(c))\n",
    "        else :\n",
    "            rets += c\n",
    "    return rets\n",
    "\n",
    "row_data = 'We are going to use A strategy tomorrow.'\n",
    "print('row data : ', row_data)\n",
    "encrypted_data = cipher(row_data)\n",
    "print('encrypted data : ', encrypted_data)\n",
    "decrypted_data = cipher(encrypted_data)\n",
    "print('decrypted data : ', decrypted_data)\n",
    "            "
   ]
  },
  {
   "cell_type": "markdown",
   "metadata": {},
   "source": [
    "# No.09\n",
    "スペースで区切られた単語列に対して，各単語の先頭と末尾の文字は残し，それ以外の文字の順序をランダムに並び替えるプログラムを作成せよ．ただし，長さが４以下の単語は並び替えないこととする．適当な英語の文（例えば\"I couldn't believe that I could actually understand what I was reading : the phenomenal power of the human mind .\"）を与え，その実行結果を確認せよ．"
   ]
  },
  {
   "cell_type": "code",
   "execution_count": 16,
   "metadata": {
    "collapsed": false
   },
   "outputs": [
    {
     "name": "stdout",
     "output_type": "stream",
     "text": [
      "original :  I couldn't believe that I could actually understand what I was reading : the phenomenal power of the human mind .\n",
      "swapped :  I cdnulo't bliveee that I cluod aacltuly urstnaednd what I was rnaedig : the panonemhel pwoer of the haumn mind .\n"
     ]
    }
   ],
   "source": [
    "import numpy as np\n",
    "\n",
    "def random_swap(sentence):\n",
    "    words = sentence.split()\n",
    "    rets = ''\n",
    "    for word in words:\n",
    "        if len(word) > 4:\n",
    "            rets += word[0]\n",
    "            for i in np.random.permutation(range(1,len(word) - 1)) :\n",
    "                rets += word[i]\n",
    "            rets += word[-1] + ' '\n",
    "        else :\n",
    "            rets += word + ' '\n",
    "        \n",
    "    return rets.rstrip(' ')\n",
    "\n",
    "sentence = 'I couldn\\'t believe that I could actually understand what I was reading : the phenomenal power of the human mind .'\n",
    "print('original : ', sentence)\n",
    "print('swapped : ', random_swap(sentence))"
   ]
  },
  {
   "cell_type": "code",
   "execution_count": 24,
   "metadata": {
    "collapsed": false
   },
   "outputs": [
    {
     "data": {
      "text/plain": [
       "'aceg'"
      ]
     },
     "execution_count": 24,
     "metadata": {},
     "output_type": "execute_result"
    }
   ],
   "source": [
    "a = 'abcdefg'\n",
    "a[::2]"
   ]
  },
  {
   "cell_type": "code",
   "execution_count": null,
   "metadata": {
    "collapsed": true
   },
   "outputs": [],
   "source": []
  }
 ],
 "metadata": {
  "kernelspec": {
   "display_name": "Python 3",
   "language": "python",
   "name": "python3"
  },
  "language_info": {
   "codemirror_mode": {
    "name": "ipython",
    "version": 3
   },
   "file_extension": ".py",
   "mimetype": "text/x-python",
   "name": "python",
   "nbconvert_exporter": "python",
   "pygments_lexer": "ipython3",
   "version": "3.6.0"
  }
 },
 "nbformat": 4,
 "nbformat_minor": 2
}
